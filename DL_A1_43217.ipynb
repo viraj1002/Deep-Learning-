{
 "cells": [
  {
   "cell_type": "markdown",
   "metadata": {
    "id": "y0kQAsW-3Ppa"
   },
   "source": [
    "Name: **Megha Dandapat**<br>\n",
    "Div: **BE10**<br>\n",
    "Roll no: **43217**<br>\n",
    "Title: **Assignment 1: Study of Deep learning Packages: Tensorflow, Keras, Theano and PyTorch.\n",
    "Document the distinct features and functionality of the packages.**<br>"
   ]
  },
  {
   "cell_type": "code",
   "execution_count": 1,
   "metadata": {
    "id": "oecPSoNR3-yP"
   },
   "outputs": [
    {
     "name": "stdout",
     "output_type": "stream",
     "text": [
      "Defaulting to user installation because normal site-packages is not writeable\n",
      "Requirement already satisfied: tensorflow in c:\\users\\admin\\appdata\\roaming\\python\\python311\\site-packages (2.14.0)\n",
      "Requirement already satisfied: tensorflow-intel==2.14.0 in c:\\users\\admin\\appdata\\roaming\\python\\python311\\site-packages (from tensorflow) (2.14.0)\n",
      "Requirement already satisfied: absl-py>=1.0.0 in c:\\users\\admin\\appdata\\roaming\\python\\python311\\site-packages (from tensorflow-intel==2.14.0->tensorflow) (2.0.0)\n",
      "Requirement already satisfied: astunparse>=1.6.0 in c:\\users\\admin\\appdata\\roaming\\python\\python311\\site-packages (from tensorflow-intel==2.14.0->tensorflow) (1.6.3)\n",
      "Requirement already satisfied: flatbuffers>=23.5.26 in c:\\users\\admin\\appdata\\roaming\\python\\python311\\site-packages (from tensorflow-intel==2.14.0->tensorflow) (23.5.26)\n",
      "Requirement already satisfied: gast!=0.5.0,!=0.5.1,!=0.5.2,>=0.2.1 in c:\\users\\admin\\appdata\\roaming\\python\\python311\\site-packages (from tensorflow-intel==2.14.0->tensorflow) (0.5.4)\n",
      "Requirement already satisfied: google-pasta>=0.1.1 in c:\\users\\admin\\appdata\\roaming\\python\\python311\\site-packages (from tensorflow-intel==2.14.0->tensorflow) (0.2.0)\n",
      "Requirement already satisfied: h5py>=2.9.0 in c:\\programdata\\anaconda3\\lib\\site-packages (from tensorflow-intel==2.14.0->tensorflow) (3.9.0)\n",
      "Requirement already satisfied: libclang>=13.0.0 in c:\\users\\admin\\appdata\\roaming\\python\\python311\\site-packages (from tensorflow-intel==2.14.0->tensorflow) (16.0.6)\n",
      "Requirement already satisfied: ml-dtypes==0.2.0 in c:\\users\\admin\\appdata\\roaming\\python\\python311\\site-packages (from tensorflow-intel==2.14.0->tensorflow) (0.2.0)\n",
      "Requirement already satisfied: numpy>=1.23.5 in c:\\programdata\\anaconda3\\lib\\site-packages (from tensorflow-intel==2.14.0->tensorflow) (1.24.3)\n",
      "Requirement already satisfied: opt-einsum>=2.3.2 in c:\\users\\admin\\appdata\\roaming\\python\\python311\\site-packages (from tensorflow-intel==2.14.0->tensorflow) (3.3.0)\n",
      "Requirement already satisfied: packaging in c:\\programdata\\anaconda3\\lib\\site-packages (from tensorflow-intel==2.14.0->tensorflow) (23.1)\n",
      "Requirement already satisfied: protobuf!=4.21.0,!=4.21.1,!=4.21.2,!=4.21.3,!=4.21.4,!=4.21.5,<5.0.0dev,>=3.20.3 in c:\\users\\admin\\appdata\\roaming\\python\\python311\\site-packages (from tensorflow-intel==2.14.0->tensorflow) (4.25.0)\n",
      "Requirement already satisfied: setuptools in c:\\programdata\\anaconda3\\lib\\site-packages (from tensorflow-intel==2.14.0->tensorflow) (68.0.0)\n",
      "Requirement already satisfied: six>=1.12.0 in c:\\programdata\\anaconda3\\lib\\site-packages (from tensorflow-intel==2.14.0->tensorflow) (1.16.0)\n",
      "Requirement already satisfied: termcolor>=1.1.0 in c:\\users\\admin\\appdata\\roaming\\python\\python311\\site-packages (from tensorflow-intel==2.14.0->tensorflow) (2.3.0)\n",
      "Requirement already satisfied: typing-extensions>=3.6.6 in c:\\programdata\\anaconda3\\lib\\site-packages (from tensorflow-intel==2.14.0->tensorflow) (4.7.1)\n",
      "Requirement already satisfied: wrapt<1.15,>=1.11.0 in c:\\programdata\\anaconda3\\lib\\site-packages (from tensorflow-intel==2.14.0->tensorflow) (1.14.1)\n",
      "Requirement already satisfied: tensorflow-io-gcs-filesystem>=0.23.1 in c:\\users\\admin\\appdata\\roaming\\python\\python311\\site-packages (from tensorflow-intel==2.14.0->tensorflow) (0.31.0)\n",
      "Requirement already satisfied: grpcio<2.0,>=1.24.3 in c:\\users\\admin\\appdata\\roaming\\python\\python311\\site-packages (from tensorflow-intel==2.14.0->tensorflow) (1.59.2)\n",
      "Requirement already satisfied: tensorboard<2.15,>=2.14 in c:\\users\\admin\\appdata\\roaming\\python\\python311\\site-packages (from tensorflow-intel==2.14.0->tensorflow) (2.14.1)\n",
      "Requirement already satisfied: tensorflow-estimator<2.15,>=2.14.0 in c:\\users\\admin\\appdata\\roaming\\python\\python311\\site-packages (from tensorflow-intel==2.14.0->tensorflow) (2.14.0)\n",
      "Requirement already satisfied: keras<2.15,>=2.14.0 in c:\\users\\admin\\appdata\\roaming\\python\\python311\\site-packages (from tensorflow-intel==2.14.0->tensorflow) (2.14.0)\n",
      "Requirement already satisfied: wheel<1.0,>=0.23.0 in c:\\programdata\\anaconda3\\lib\\site-packages (from astunparse>=1.6.0->tensorflow-intel==2.14.0->tensorflow) (0.38.4)\n",
      "Requirement already satisfied: google-auth<3,>=1.6.3 in c:\\users\\admin\\appdata\\roaming\\python\\python311\\site-packages (from tensorboard<2.15,>=2.14->tensorflow-intel==2.14.0->tensorflow) (2.23.4)\n",
      "Requirement already satisfied: google-auth-oauthlib<1.1,>=0.5 in c:\\users\\admin\\appdata\\roaming\\python\\python311\\site-packages (from tensorboard<2.15,>=2.14->tensorflow-intel==2.14.0->tensorflow) (1.0.0)\n",
      "Requirement already satisfied: markdown>=2.6.8 in c:\\programdata\\anaconda3\\lib\\site-packages (from tensorboard<2.15,>=2.14->tensorflow-intel==2.14.0->tensorflow) (3.4.1)\n",
      "Requirement already satisfied: requests<3,>=2.21.0 in c:\\programdata\\anaconda3\\lib\\site-packages (from tensorboard<2.15,>=2.14->tensorflow-intel==2.14.0->tensorflow) (2.31.0)\n",
      "Requirement already satisfied: tensorboard-data-server<0.8.0,>=0.7.0 in c:\\users\\admin\\appdata\\roaming\\python\\python311\\site-packages (from tensorboard<2.15,>=2.14->tensorflow-intel==2.14.0->tensorflow) (0.7.2)\n",
      "Requirement already satisfied: werkzeug>=1.0.1 in c:\\programdata\\anaconda3\\lib\\site-packages (from tensorboard<2.15,>=2.14->tensorflow-intel==2.14.0->tensorflow) (2.2.3)\n",
      "Requirement already satisfied: cachetools<6.0,>=2.0.0 in c:\\users\\admin\\appdata\\roaming\\python\\python311\\site-packages (from google-auth<3,>=1.6.3->tensorboard<2.15,>=2.14->tensorflow-intel==2.14.0->tensorflow) (5.3.2)\n",
      "Requirement already satisfied: pyasn1-modules>=0.2.1 in c:\\programdata\\anaconda3\\lib\\site-packages (from google-auth<3,>=1.6.3->tensorboard<2.15,>=2.14->tensorflow-intel==2.14.0->tensorflow) (0.2.8)\n",
      "Requirement already satisfied: rsa<5,>=3.1.4 in c:\\users\\admin\\appdata\\roaming\\python\\python311\\site-packages (from google-auth<3,>=1.6.3->tensorboard<2.15,>=2.14->tensorflow-intel==2.14.0->tensorflow) (4.9)\n",
      "Requirement already satisfied: requests-oauthlib>=0.7.0 in c:\\users\\admin\\appdata\\roaming\\python\\python311\\site-packages (from google-auth-oauthlib<1.1,>=0.5->tensorboard<2.15,>=2.14->tensorflow-intel==2.14.0->tensorflow) (1.3.1)\n",
      "Requirement already satisfied: charset-normalizer<4,>=2 in c:\\programdata\\anaconda3\\lib\\site-packages (from requests<3,>=2.21.0->tensorboard<2.15,>=2.14->tensorflow-intel==2.14.0->tensorflow) (2.0.4)\n",
      "Requirement already satisfied: idna<4,>=2.5 in c:\\programdata\\anaconda3\\lib\\site-packages (from requests<3,>=2.21.0->tensorboard<2.15,>=2.14->tensorflow-intel==2.14.0->tensorflow) (3.4)\n",
      "Requirement already satisfied: urllib3<3,>=1.21.1 in c:\\programdata\\anaconda3\\lib\\site-packages (from requests<3,>=2.21.0->tensorboard<2.15,>=2.14->tensorflow-intel==2.14.0->tensorflow) (1.26.16)\n",
      "Requirement already satisfied: certifi>=2017.4.17 in c:\\programdata\\anaconda3\\lib\\site-packages (from requests<3,>=2.21.0->tensorboard<2.15,>=2.14->tensorflow-intel==2.14.0->tensorflow) (2023.7.22)\n",
      "Requirement already satisfied: MarkupSafe>=2.1.1 in c:\\programdata\\anaconda3\\lib\\site-packages (from werkzeug>=1.0.1->tensorboard<2.15,>=2.14->tensorflow-intel==2.14.0->tensorflow) (2.1.1)\n",
      "Requirement already satisfied: pyasn1<0.5.0,>=0.4.6 in c:\\programdata\\anaconda3\\lib\\site-packages (from pyasn1-modules>=0.2.1->google-auth<3,>=1.6.3->tensorboard<2.15,>=2.14->tensorflow-intel==2.14.0->tensorflow) (0.4.8)\n",
      "Requirement already satisfied: oauthlib>=3.0.0 in c:\\users\\admin\\appdata\\roaming\\python\\python311\\site-packages (from requests-oauthlib>=0.7.0->google-auth-oauthlib<1.1,>=0.5->tensorboard<2.15,>=2.14->tensorflow-intel==2.14.0->tensorflow) (3.2.2)\n",
      "Note: you may need to restart the kernel to use updated packages.\n"
     ]
    },
    {
     "name": "stderr",
     "output_type": "stream",
     "text": [
      "DEPRECATION: Loading egg at c:\\programdata\\anaconda3\\lib\\site-packages\\vboxapi-1.0-py3.11.egg is deprecated. pip 23.3 will enforce this behaviour change. A possible replacement is to use pip for package installation..\n"
     ]
    }
   ],
   "source": [
    "pip install tensorflow"
   ]
  },
  {
   "cell_type": "markdown",
   "metadata": {
    "id": "SZ4PqakF32cQ"
   },
   "source": [
    "**1. Tensorflow**"
   ]
  },
  {
   "cell_type": "code",
   "execution_count": 2,
   "metadata": {
    "id": "6m8-7WTb3Mit"
   },
   "outputs": [],
   "source": [
    "import numpy as np\n",
    "import tensorflow as tf"
   ]
  },
  {
   "cell_type": "code",
   "execution_count": 3,
   "metadata": {
    "colab": {
     "base_uri": "https://localhost:8080/"
    },
    "id": "rDAP1sI64A_T",
    "outputId": "d7c1900f-e4c8-4636-c144-14fbe8683285"
   },
   "outputs": [
    {
     "name": "stdout",
     "output_type": "stream",
     "text": [
      "2.14.0\n"
     ]
    }
   ],
   "source": [
    "print(tf.__version__)"
   ]
  },
  {
   "cell_type": "markdown",
   "metadata": {
    "id": "6IrNy3Ek4Dtv"
   },
   "source": [
    "**2. Keras**"
   ]
  },
  {
   "cell_type": "code",
   "execution_count": 4,
   "metadata": {
    "colab": {
     "base_uri": "https://localhost:8080/"
    },
    "id": "oda3NOiV4GcJ",
    "outputId": "ffc60e3a-1a0b-4a54-9998-873ad2b5f257"
   },
   "outputs": [],
   "source": [
    "from keras import datasets\n",
    "# Load MNIST datasets from keras\n",
    "(train_images, train_labels), (test_images, test_labels) = datasets.mnist.load_data()"
   ]
  },
  {
   "cell_type": "code",
   "execution_count": 5,
   "metadata": {
    "colab": {
     "base_uri": "https://localhost:8080/"
    },
    "id": "FcugfdER4LP6",
    "outputId": "24d8e04c-aee6-446e-ac99-24de501f9706"
   },
   "outputs": [
    {
     "data": {
      "text/plain": [
       "(60000, 28, 28)"
      ]
     },
     "execution_count": 5,
     "metadata": {},
     "output_type": "execute_result"
    }
   ],
   "source": [
    "train_images.shape"
   ]
  },
  {
   "cell_type": "code",
   "execution_count": 6,
   "metadata": {
    "colab": {
     "base_uri": "https://localhost:8080/"
    },
    "id": "8cfuAeKo4OeX",
    "outputId": "6c0d9462-aa3a-4ba1-aaf5-e1191e16792d"
   },
   "outputs": [
    {
     "data": {
      "text/plain": [
       "(10000, 28, 28)"
      ]
     },
     "execution_count": 6,
     "metadata": {},
     "output_type": "execute_result"
    }
   ],
   "source": [
    "test_images.shape"
   ]
  },
  {
   "cell_type": "markdown",
   "metadata": {
    "id": "a8hDZ2mn4PRn"
   },
   "source": [
    "**3. Theano**"
   ]
  },
  {
   "cell_type": "code",
   "execution_count": 28,
   "metadata": {
    "colab": {
     "base_uri": "https://localhost:8080/"
    },
    "id": "_3g_Lsce4Q9O",
    "outputId": "c40852cb-86a4-4f47-c7e4-b003c3d746d0"
   },
   "outputs": [
    {
     "name": "stdout",
     "output_type": "stream",
     "text": [
      "Requirement already satisfied: Theano in ./anaconda3/lib/python3.8/site-packages (1.0.5)\r\n",
      "Requirement already satisfied: numpy>=1.9.1 in ./anaconda3/lib/python3.8/site-packages (from Theano) (1.20.1)\r\n",
      "Requirement already satisfied: scipy>=0.14 in ./anaconda3/lib/python3.8/site-packages (from Theano) (1.6.2)\r\n",
      "Requirement already satisfied: six>=1.9.0 in ./anaconda3/lib/python3.8/site-packages (from Theano) (1.15.0)\r\n"
     ]
    }
   ],
   "source": []
  },
  {
   "cell_type": "code",
   "execution_count": 7,
   "metadata": {
    "id": "HYJwni9i4TlV"
   },
   "outputs": [
    {
     "name": "stdout",
     "output_type": "stream",
     "text": [
      "Defaulting to user installation because normal site-packages is not writeable\n",
      "Looking in indexes: https://pypi.org/simple, https://download.pytorch.org/whl/cu115\n",
      "Collecting torch\n",
      "  Obtaining dependency information for torch from https://files.pythonhosted.org/packages/0d/4a/e51420d46cfc90562e85af2fee912237c662ab31140ab179e49bd69401d6/torch-2.5.1-cp311-cp311-win_amd64.whl.metadata\n",
      "  Downloading torch-2.5.1-cp311-cp311-win_amd64.whl.metadata (28 kB)\n",
      "Collecting torchvision\n",
      "  Obtaining dependency information for torchvision from https://files.pythonhosted.org/packages/69/55/ce836703ff77bb21582c3098d5311f8ddde7eadc7eab04be9561961f4725/torchvision-0.20.1-cp311-cp311-win_amd64.whl.metadata\n",
      "  Downloading torchvision-0.20.1-cp311-cp311-win_amd64.whl.metadata (6.2 kB)\n",
      "Collecting torchaudio\n",
      "  Obtaining dependency information for torchaudio from https://files.pythonhosted.org/packages/32/6a/019e426ab4af487167182a19e115fc03234fe28bc30e22cb0e1a9958f70e/torchaudio-2.5.1-cp311-cp311-win_amd64.whl.metadata\n",
      "  Downloading torchaudio-2.5.1-cp311-cp311-win_amd64.whl.metadata (6.5 kB)\n",
      "Requirement already satisfied: filelock in c:\\programdata\\anaconda3\\lib\\site-packages (from torch) (3.9.0)\n",
      "Collecting typing-extensions>=4.8.0 (from torch)\n",
      "  Obtaining dependency information for typing-extensions>=4.8.0 from https://files.pythonhosted.org/packages/26/9f/ad63fc0248c5379346306f8668cda6e2e2e9c95e01216d2b8ffd9ff037d0/typing_extensions-4.12.2-py3-none-any.whl.metadata\n",
      "  Downloading typing_extensions-4.12.2-py3-none-any.whl.metadata (3.0 kB)\n",
      "Requirement already satisfied: networkx in c:\\programdata\\anaconda3\\lib\\site-packages (from torch) (3.1)\n",
      "Requirement already satisfied: jinja2 in c:\\programdata\\anaconda3\\lib\\site-packages (from torch) (3.1.2)\n",
      "Requirement already satisfied: fsspec in c:\\programdata\\anaconda3\\lib\\site-packages (from torch) (2023.4.0)\n",
      "Collecting sympy==1.13.1 (from torch)\n",
      "  Downloading https://download.pytorch.org/whl/sympy-1.13.1-py3-none-any.whl (6.2 MB)\n",
      "     ---------------------------------------- 0.0/6.2 MB ? eta -:--:--\n",
      "     ----- ---------------------------------- 0.8/6.2 MB 17.9 MB/s eta 0:00:01\n",
      "     ---------------- ----------------------- 2.5/6.2 MB 26.4 MB/s eta 0:00:01\n",
      "     ------------------------ --------------- 3.7/6.2 MB 26.5 MB/s eta 0:00:01\n",
      "     -------------------------------- ------- 5.0/6.2 MB 26.6 MB/s eta 0:00:01\n",
      "     ---------------------------------------  6.2/6.2 MB 28.2 MB/s eta 0:00:01\n",
      "     ---------------------------------------  6.2/6.2 MB 28.2 MB/s eta 0:00:01\n",
      "     ---------------------------------------  6.2/6.2 MB 28.2 MB/s eta 0:00:01\n",
      "     ---------------------------------------- 6.2/6.2 MB 18.0 MB/s eta 0:00:00\n",
      "Requirement already satisfied: mpmath<1.4,>=1.1.0 in c:\\programdata\\anaconda3\\lib\\site-packages (from sympy==1.13.1->torch) (1.3.0)\n",
      "Requirement already satisfied: numpy in c:\\programdata\\anaconda3\\lib\\site-packages (from torchvision) (1.24.3)\n",
      "Requirement already satisfied: pillow!=8.3.*,>=5.3.0 in c:\\programdata\\anaconda3\\lib\\site-packages (from torchvision) (9.4.0)\n",
      "Requirement already satisfied: MarkupSafe>=2.0 in c:\\programdata\\anaconda3\\lib\\site-packages (from jinja2->torch) (2.1.1)\n",
      "Downloading torch-2.5.1-cp311-cp311-win_amd64.whl (203.1 MB)\n",
      "   ---------------------------------------- 0.0/203.1 MB ? eta -:--:--\n",
      "   ---------------------------------------- 0.2/203.1 MB 5.9 MB/s eta 0:00:35\n",
      "   ---------------------------------------- 0.7/203.1 MB 9.5 MB/s eta 0:00:22\n",
      "   ---------------------------------------- 1.5/203.1 MB 12.2 MB/s eta 0:00:17\n",
      "   ---------------------------------------- 2.1/203.1 MB 13.3 MB/s eta 0:00:16\n",
      "   ---------------------------------------- 2.1/203.1 MB 13.3 MB/s eta 0:00:16\n",
      "    --------------------------------------- 3.1/203.1 MB 10.9 MB/s eta 0:00:19\n",
      "    --------------------------------------- 4.2/203.1 MB 13.4 MB/s eta 0:00:15\n",
      "   - -------------------------------------- 5.4/203.1 MB 15.1 MB/s eta 0:00:14\n",
      "   - -------------------------------------- 6.6/203.1 MB 16.3 MB/s eta 0:00:13\n",
      "   - -------------------------------------- 7.7/203.1 MB 17.0 MB/s eta 0:00:12\n",
      "   - -------------------------------------- 8.8/203.1 MB 17.6 MB/s eta 0:00:12\n",
      "   -- ------------------------------------- 10.2/203.1 MB 18.1 MB/s eta 0:00:11\n",
      "   -- ------------------------------------- 11.4/203.1 MB 20.5 MB/s eta 0:00:10\n",
      "   -- ------------------------------------- 12.7/203.1 MB 25.2 MB/s eta 0:00:08\n",
      "   -- ------------------------------------- 13.9/203.1 MB 25.1 MB/s eta 0:00:08\n",
      "   -- ------------------------------------- 14.7/203.1 MB 25.2 MB/s eta 0:00:08\n",
      "   --- ------------------------------------ 15.7/203.1 MB 24.3 MB/s eta 0:00:08\n",
      "   --- ------------------------------------ 16.8/203.1 MB 23.4 MB/s eta 0:00:08\n",
      "   --- ------------------------------------ 18.2/203.1 MB 24.2 MB/s eta 0:00:08\n",
      "   --- ------------------------------------ 19.4/203.1 MB 25.2 MB/s eta 0:00:08\n",
      "   ---- ----------------------------------- 20.7/203.1 MB 25.2 MB/s eta 0:00:08\n",
      "   ---- ----------------------------------- 22.0/203.1 MB 25.2 MB/s eta 0:00:08\n",
      "   ---- ----------------------------------- 23.2/203.1 MB 25.1 MB/s eta 0:00:08\n",
      "   ---- ----------------------------------- 24.5/203.1 MB 25.1 MB/s eta 0:00:08\n",
      "   ----- ---------------------------------- 25.7/203.1 MB 27.3 MB/s eta 0:00:07\n",
      "   ----- ---------------------------------- 26.9/203.1 MB 27.3 MB/s eta 0:00:07\n",
      "   ----- ---------------------------------- 27.8/203.1 MB 26.2 MB/s eta 0:00:07\n",
      "   ----- ---------------------------------- 29.0/203.1 MB 26.2 MB/s eta 0:00:07\n",
      "   ----- ---------------------------------- 30.2/203.1 MB 25.2 MB/s eta 0:00:07\n",
      "   ------ --------------------------------- 31.5/203.1 MB 25.2 MB/s eta 0:00:07\n",
      "   ------ --------------------------------- 32.7/203.1 MB 25.1 MB/s eta 0:00:07\n",
      "   ------ --------------------------------- 34.0/203.1 MB 25.1 MB/s eta 0:00:07\n",
      "   ------ --------------------------------- 35.1/203.1 MB 25.2 MB/s eta 0:00:07\n",
      "   ------- -------------------------------- 36.4/203.1 MB 25.2 MB/s eta 0:00:07\n",
      "   ------- -------------------------------- 37.6/203.1 MB 25.2 MB/s eta 0:00:07\n",
      "   ------- -------------------------------- 38.9/203.1 MB 26.2 MB/s eta 0:00:07\n",
      "   ------- -------------------------------- 40.1/203.1 MB 26.2 MB/s eta 0:00:07\n",
      "   -------- ------------------------------- 41.4/203.1 MB 27.3 MB/s eta 0:00:06\n",
      "   -------- ------------------------------- 42.7/203.1 MB 27.3 MB/s eta 0:00:06\n",
      "   -------- ------------------------------- 43.9/203.1 MB 27.3 MB/s eta 0:00:06\n",
      "   -------- ------------------------------- 45.2/203.1 MB 27.3 MB/s eta 0:00:06\n",
      "   --------- ------------------------------ 46.5/203.1 MB 27.3 MB/s eta 0:00:06\n",
      "   --------- ------------------------------ 47.7/203.1 MB 27.3 MB/s eta 0:00:06\n",
      "   --------- ------------------------------ 48.6/203.1 MB 27.3 MB/s eta 0:00:06\n",
      "   --------- ------------------------------ 50.3/203.1 MB 27.3 MB/s eta 0:00:06\n",
      "   ---------- ----------------------------- 51.2/203.1 MB 27.3 MB/s eta 0:00:06\n",
      "   ---------- ----------------------------- 51.2/203.1 MB 27.3 MB/s eta 0:00:06\n",
      "   ---------- ----------------------------- 51.2/203.1 MB 27.3 MB/s eta 0:00:06\n",
      "   ---------- ----------------------------- 51.2/203.1 MB 27.3 MB/s eta 0:00:06\n",
      "   ---------- ----------------------------- 51.2/203.1 MB 27.3 MB/s eta 0:00:06\n",
      "   ---------- ----------------------------- 51.2/203.1 MB 27.3 MB/s eta 0:00:06\n",
      "   ---------- ----------------------------- 51.7/203.1 MB 15.6 MB/s eta 0:00:10\n",
      "   ---------- ----------------------------- 52.9/203.1 MB 16.0 MB/s eta 0:00:10\n",
      "   ---------- ----------------------------- 52.9/203.1 MB 16.0 MB/s eta 0:00:10\n",
      "   ---------- ----------------------------- 52.9/203.1 MB 16.0 MB/s eta 0:00:10\n",
      "   ---------- ----------------------------- 54.2/203.1 MB 13.6 MB/s eta 0:00:11\n",
      "   ---------- ----------------------------- 54.6/203.1 MB 13.4 MB/s eta 0:00:12\n",
      "   ---------- ----------------------------- 54.6/203.1 MB 13.4 MB/s eta 0:00:12\n",
      "   ---------- ----------------------------- 54.6/203.1 MB 13.4 MB/s eta 0:00:12\n",
      "   ----------- ---------------------------- 56.1/203.1 MB 11.9 MB/s eta 0:00:13\n",
      "   ----------- ---------------------------- 56.8/203.1 MB 11.5 MB/s eta 0:00:13\n",
      "   ----------- ---------------------------- 57.7/203.1 MB 11.3 MB/s eta 0:00:13\n",
      "   ----------- ---------------------------- 58.9/203.1 MB 11.7 MB/s eta 0:00:13\n",
      "   ----------- ---------------------------- 60.1/203.1 MB 11.3 MB/s eta 0:00:13\n",
      "   ------------ --------------------------- 61.3/203.1 MB 11.3 MB/s eta 0:00:13\n",
      "   ------------ --------------------------- 61.3/203.1 MB 11.3 MB/s eta 0:00:13\n",
      "   ------------ --------------------------- 63.0/203.1 MB 15.6 MB/s eta 0:00:09\n",
      "   ------------ --------------------------- 64.5/203.1 MB 18.2 MB/s eta 0:00:08\n",
      "   ------------ --------------------------- 65.5/203.1 MB 23.4 MB/s eta 0:00:06\n",
      "   ------------ --------------------------- 65.7/203.1 MB 23.4 MB/s eta 0:00:06\n",
      "   ------------ --------------------------- 65.7/203.1 MB 23.4 MB/s eta 0:00:06\n",
      "   ------------ --------------------------- 65.7/203.1 MB 23.4 MB/s eta 0:00:06\n",
      "   ------------ --------------------------- 65.9/203.1 MB 16.8 MB/s eta 0:00:09\n",
      "   ------------ --------------------------- 65.9/203.1 MB 16.8 MB/s eta 0:00:09\n",
      "   ------------ --------------------------- 65.9/203.1 MB 16.8 MB/s eta 0:00:09\n",
      "   ------------- -------------------------- 68.4/203.1 MB 16.4 MB/s eta 0:00:09\n",
      "   ------------- -------------------------- 68.4/203.1 MB 16.4 MB/s eta 0:00:09\n",
      "   ------------- -------------------------- 68.4/203.1 MB 16.4 MB/s eta 0:00:09\n",
      "   ------------- -------------------------- 68.4/203.1 MB 16.4 MB/s eta 0:00:09\n",
      "   ------------- -------------------------- 68.4/203.1 MB 16.4 MB/s eta 0:00:09\n",
      "   ------------- -------------------------- 68.4/203.1 MB 16.4 MB/s eta 0:00:09\n",
      "   ------------- -------------------------- 68.4/203.1 MB 16.4 MB/s eta 0:00:09\n",
      "   ------------- -------------------------- 68.4/203.1 MB 16.4 MB/s eta 0:00:09\n",
      "   ------------- -------------------------- 68.4/203.1 MB 16.4 MB/s eta 0:00:09\n",
      "   ------------- -------------------------- 68.4/203.1 MB 16.4 MB/s eta 0:00:09\n",
      "   ------------- -------------------------- 68.4/203.1 MB 16.4 MB/s eta 0:00:09\n",
      "   ------------- -------------------------- 68.4/203.1 MB 16.4 MB/s eta 0:00:09\n",
      "   ------------- -------------------------- 70.3/203.1 MB 9.2 MB/s eta 0:00:15\n",
      "   -------------- ------------------------- 71.5/203.1 MB 9.8 MB/s eta 0:00:14\n",
      "   -------------- ------------------------- 72.6/203.1 MB 9.4 MB/s eta 0:00:14\n",
      "   -------------- ------------------------- 74.0/203.1 MB 9.4 MB/s eta 0:00:14\n",
      "   -------------- ------------------------- 75.2/203.1 MB 9.4 MB/s eta 0:00:14\n",
      "   --------------- ------------------------ 76.5/203.1 MB 12.6 MB/s eta 0:00:11\n",
      "   --------------- ------------------------ 77.6/203.1 MB 12.1 MB/s eta 0:00:11\n",
      "   --------------- ------------------------ 78.9/203.1 MB 29.7 MB/s eta 0:00:05\n",
      "   --------------- ------------------------ 80.1/203.1 MB 27.3 MB/s eta 0:00:05\n",
      "   ---------------- ----------------------- 81.3/203.1 MB 26.2 MB/s eta 0:00:05\n",
      "   ---------------- ----------------------- 82.5/203.1 MB 26.2 MB/s eta 0:00:05\n",
      "   ---------------- ----------------------- 83.6/203.1 MB 26.2 MB/s eta 0:00:05\n",
      "   ---------------- ----------------------- 84.7/203.1 MB 26.2 MB/s eta 0:00:05\n",
      "   ---------------- ----------------------- 85.8/203.1 MB 25.2 MB/s eta 0:00:05\n",
      "   ----------------- ---------------------- 86.5/203.1 MB 25.1 MB/s eta 0:00:05\n",
      "   ----------------- ---------------------- 86.5/203.1 MB 25.1 MB/s eta 0:00:05\n",
      "   ----------------- ---------------------- 86.5/203.1 MB 25.1 MB/s eta 0:00:05\n",
      "   ----------------- ---------------------- 86.5/203.1 MB 25.1 MB/s eta 0:00:05\n",
      "   ----------------- ---------------------- 86.5/203.1 MB 25.1 MB/s eta 0:00:05\n",
      "   ----------------- ---------------------- 88.1/203.1 MB 17.2 MB/s eta 0:00:07\n",
      "   ----------------- ---------------------- 89.3/203.1 MB 17.3 MB/s eta 0:00:07\n",
      "   ----------------- ---------------------- 90.5/203.1 MB 17.7 MB/s eta 0:00:07\n",
      "   ------------------ --------------------- 91.7/203.1 MB 17.2 MB/s eta 0:00:07\n",
      "   ------------------ --------------------- 92.9/203.1 MB 17.2 MB/s eta 0:00:07\n",
      "   ------------------ --------------------- 93.9/203.1 MB 17.3 MB/s eta 0:00:07\n",
      "   ------------------ --------------------- 93.9/203.1 MB 17.3 MB/s eta 0:00:07\n",
      "   ------------------ --------------------- 93.9/203.1 MB 17.3 MB/s eta 0:00:07\n",
      "   ------------------ --------------------- 93.9/203.1 MB 17.3 MB/s eta 0:00:07\n",
      "   ------------------ --------------------- 93.9/203.1 MB 17.3 MB/s eta 0:00:07\n",
      "   ------------------ --------------------- 93.9/203.1 MB 17.3 MB/s eta 0:00:07\n",
      "   ------------------ --------------------- 94.3/203.1 MB 11.7 MB/s eta 0:00:10\n",
      "   ------------------ --------------------- 96.0/203.1 MB 12.1 MB/s eta 0:00:09\n",
      "   ------------------- -------------------- 97.1/203.1 MB 16.4 MB/s eta 0:00:07\n",
      "   ------------------- -------------------- 98.2/203.1 MB 15.6 MB/s eta 0:00:07\n",
      "   ------------------- -------------------- 99.3/203.1 MB 15.6 MB/s eta 0:00:07\n",
      "   ------------------- ------------------- 100.4/203.1 MB 15.2 MB/s eta 0:00:07\n",
      "   ------------------- ------------------- 101.0/203.1 MB 15.6 MB/s eta 0:00:07\n",
      "   ------------------- ------------------- 101.5/203.1 MB 14.2 MB/s eta 0:00:08\n",
      "   ------------------- ------------------- 103.5/203.1 MB 15.2 MB/s eta 0:00:07\n",
      "   ------------------- ------------------- 103.6/203.1 MB 14.9 MB/s eta 0:00:07\n",
      "   -------------------- ------------------ 105.1/203.1 MB 22.6 MB/s eta 0:00:05\n",
      "   -------------------- ------------------ 106.2/203.1 MB 22.6 MB/s eta 0:00:05\n",
      "   -------------------- ------------------ 107.2/203.1 MB 21.8 MB/s eta 0:00:05\n",
      "   -------------------- ------------------ 108.3/203.1 MB 21.8 MB/s eta 0:00:05\n",
      "   --------------------- ----------------- 109.4/203.1 MB 21.8 MB/s eta 0:00:05\n",
      "   --------------------- ----------------- 110.7/203.1 MB 22.6 MB/s eta 0:00:05\n",
      "   --------------------- ----------------- 111.1/203.1 MB 21.8 MB/s eta 0:00:05\n",
      "   --------------------- ----------------- 111.1/203.1 MB 21.8 MB/s eta 0:00:05\n",
      "   --------------------- ----------------- 111.1/203.1 MB 21.8 MB/s eta 0:00:05\n",
      "   --------------------- ----------------- 111.1/203.1 MB 21.8 MB/s eta 0:00:05\n",
      "   --------------------- ----------------- 111.1/203.1 MB 21.8 MB/s eta 0:00:05\n",
      "   --------------------- ----------------- 111.1/203.1 MB 21.8 MB/s eta 0:00:05\n",
      "   --------------------- ----------------- 111.1/203.1 MB 21.8 MB/s eta 0:00:05\n",
      "   --------------------- ----------------- 111.1/203.1 MB 21.8 MB/s eta 0:00:05\n",
      "   --------------------- ----------------- 111.1/203.1 MB 21.8 MB/s eta 0:00:05\n",
      "   --------------------- ----------------- 111.1/203.1 MB 21.8 MB/s eta 0:00:05\n",
      "   --------------------- ----------------- 111.6/203.1 MB 11.5 MB/s eta 0:00:08\n",
      "   --------------------- ----------------- 111.6/203.1 MB 11.5 MB/s eta 0:00:08\n",
      "   --------------------- ----------------- 113.6/203.1 MB 10.9 MB/s eta 0:00:09\n",
      "   --------------------- ----------------- 113.6/203.1 MB 10.9 MB/s eta 0:00:09\n",
      "   --------------------- ----------------- 113.6/203.1 MB 10.9 MB/s eta 0:00:09\n",
      "   ---------------------- ----------------- 113.6/203.1 MB 9.5 MB/s eta 0:00:10\n",
      "   ---------------------- ---------------- 115.9/203.1 MB 10.2 MB/s eta 0:00:09\n",
      "   ---------------------- ---------------- 116.8/203.1 MB 10.4 MB/s eta 0:00:09\n",
      "   ---------------------- ---------------- 116.8/203.1 MB 10.4 MB/s eta 0:00:09\n",
      "   ---------------------- ---------------- 116.8/203.1 MB 10.4 MB/s eta 0:00:09\n",
      "   ----------------------- ---------------- 118.6/203.1 MB 9.6 MB/s eta 0:00:09\n",
      "   ----------------------- ---------------- 119.7/203.1 MB 9.6 MB/s eta 0:00:09\n",
      "   ----------------------- ---------------- 120.9/203.1 MB 9.5 MB/s eta 0:00:09\n",
      "   ----------------------- --------------- 122.0/203.1 MB 19.2 MB/s eta 0:00:05\n",
      "   ----------------------- --------------- 123.2/203.1 MB 18.2 MB/s eta 0:00:05\n",
      "   ----------------------- --------------- 124.4/203.1 MB 22.6 MB/s eta 0:00:04\n",
      "   ------------------------ -------------- 125.5/203.1 MB 21.1 MB/s eta 0:00:04\n",
      "   ------------------------ -------------- 126.2/203.1 MB 21.1 MB/s eta 0:00:04\n",
      "   ------------------------ -------------- 127.7/203.1 MB 25.2 MB/s eta 0:00:03\n",
      "   ------------------------ -------------- 128.9/203.1 MB 24.2 MB/s eta 0:00:04\n",
      "   ------------------------- ------------- 130.2/203.1 MB 25.2 MB/s eta 0:00:03\n",
      "   ------------------------- ------------- 130.7/203.1 MB 24.2 MB/s eta 0:00:03\n",
      "   ------------------------- ------------- 130.7/203.1 MB 24.2 MB/s eta 0:00:03\n",
      "   ------------------------- ------------- 130.7/203.1 MB 24.2 MB/s eta 0:00:03\n",
      "   ------------------------- ------------- 130.7/203.1 MB 24.2 MB/s eta 0:00:03\n",
      "   ------------------------- ------------- 130.7/203.1 MB 24.2 MB/s eta 0:00:03\n",
      "   ------------------------- ------------- 130.7/203.1 MB 24.2 MB/s eta 0:00:03\n",
      "   ------------------------- ------------- 130.7/203.1 MB 24.2 MB/s eta 0:00:03\n",
      "   ------------------------- ------------- 132.9/203.1 MB 15.2 MB/s eta 0:00:05\n",
      "   ------------------------- ------------- 133.8/203.1 MB 14.9 MB/s eta 0:00:05\n",
      "   ------------------------- ------------- 134.9/203.1 MB 14.9 MB/s eta 0:00:05\n",
      "   -------------------------- ------------ 136.1/203.1 MB 14.9 MB/s eta 0:00:05\n",
      "   -------------------------- ------------ 137.1/203.1 MB 14.9 MB/s eta 0:00:05\n",
      "   -------------------------- ------------ 138.2/203.1 MB 14.6 MB/s eta 0:00:05\n",
      "   -------------------------- ------------ 139.1/203.1 MB 14.6 MB/s eta 0:00:05\n",
      "   -------------------------- ------------ 140.2/203.1 MB 14.2 MB/s eta 0:00:05\n",
      "   --------------------------- ----------- 141.4/203.1 MB 24.2 MB/s eta 0:00:03\n",
      "   --------------------------- ----------- 142.3/203.1 MB 21.8 MB/s eta 0:00:03\n",
      "   --------------------------- ----------- 143.4/203.1 MB 22.6 MB/s eta 0:00:03\n",
      "   --------------------------- ----------- 143.7/203.1 MB 23.4 MB/s eta 0:00:03\n",
      "   --------------------------- ----------- 145.4/203.1 MB 22.6 MB/s eta 0:00:03\n",
      "   ---------------------------- ---------- 146.6/203.1 MB 23.4 MB/s eta 0:00:03\n",
      "   ---------------------------- ---------- 147.7/203.1 MB 23.4 MB/s eta 0:00:03\n",
      "   ---------------------------- ---------- 148.8/203.1 MB 23.4 MB/s eta 0:00:03\n",
      "   ---------------------------- ---------- 150.1/203.1 MB 24.2 MB/s eta 0:00:03\n",
      "   ----------------------------- --------- 151.2/203.1 MB 23.4 MB/s eta 0:00:03\n",
      "   ----------------------------- --------- 152.4/203.1 MB 24.2 MB/s eta 0:00:03\n",
      "   ----------------------------- --------- 153.6/203.1 MB 25.2 MB/s eta 0:00:02\n",
      "   ----------------------------- --------- 154.6/203.1 MB 26.2 MB/s eta 0:00:02\n",
      "   ----------------------------- --------- 155.9/203.1 MB 25.1 MB/s eta 0:00:02\n",
      "   ------------------------------ -------- 157.1/203.1 MB 25.2 MB/s eta 0:00:02\n",
      "   ------------------------------ -------- 158.1/203.1 MB 25.2 MB/s eta 0:00:02\n",
      "   ------------------------------ -------- 159.3/203.1 MB 25.2 MB/s eta 0:00:02\n",
      "   ------------------------------ -------- 159.9/203.1 MB 25.2 MB/s eta 0:00:02\n",
      "   ------------------------------ -------- 159.9/203.1 MB 25.2 MB/s eta 0:00:02\n",
      "   ------------------------------ -------- 159.9/203.1 MB 25.2 MB/s eta 0:00:02\n",
      "   ------------------------------ -------- 159.9/203.1 MB 25.2 MB/s eta 0:00:02\n",
      "   ------------------------------ -------- 159.9/203.1 MB 25.2 MB/s eta 0:00:02\n",
      "   ------------------------------ -------- 159.9/203.1 MB 25.2 MB/s eta 0:00:02\n",
      "   ------------------------------ -------- 159.9/203.1 MB 25.2 MB/s eta 0:00:02\n",
      "   ------------------------------- ------- 162.1/203.1 MB 15.2 MB/s eta 0:00:03\n",
      "   ------------------------------- ------- 163.4/203.1 MB 15.2 MB/s eta 0:00:03\n",
      "   ------------------------------- ------- 164.7/203.1 MB 15.6 MB/s eta 0:00:03\n",
      "   ------------------------------- ------- 165.9/203.1 MB 15.6 MB/s eta 0:00:03\n",
      "   -------------------------------- ------ 167.2/203.1 MB 15.6 MB/s eta 0:00:03\n",
      "   -------------------------------- ------ 168.5/203.1 MB 15.6 MB/s eta 0:00:03\n",
      "   -------------------------------- ------ 169.8/203.1 MB 15.6 MB/s eta 0:00:03\n",
      "   -------------------------------- ------ 170.3/203.1 MB 29.7 MB/s eta 0:00:02\n",
      "   -------------------------------- ------ 170.3/203.1 MB 29.7 MB/s eta 0:00:02\n",
      "   --------------------------------- ----- 172.5/203.1 MB 24.2 MB/s eta 0:00:02\n",
      "   --------------------------------- ----- 173.6/203.1 MB 24.2 MB/s eta 0:00:02\n",
      "   --------------------------------- ----- 174.7/203.1 MB 23.4 MB/s eta 0:00:02\n",
      "   --------------------------------- ----- 175.9/203.1 MB 23.4 MB/s eta 0:00:02\n",
      "   --------------------------------- ----- 177.0/203.1 MB 23.4 MB/s eta 0:00:02\n",
      "   ---------------------------------- ---- 178.1/203.1 MB 22.6 MB/s eta 0:00:02\n",
      "   ---------------------------------- ---- 179.3/203.1 MB 22.6 MB/s eta 0:00:02\n",
      "   ---------------------------------- ---- 180.1/203.1 MB 21.8 MB/s eta 0:00:02\n",
      "   ---------------------------------- ---- 180.5/203.1 MB 24.2 MB/s eta 0:00:01\n",
      "   ----------------------------------- --- 182.6/203.1 MB 24.2 MB/s eta 0:00:01\n",
      "   ----------------------------------- --- 183.8/203.1 MB 24.2 MB/s eta 0:00:01\n",
      "   ----------------------------------- --- 185.0/203.1 MB 24.2 MB/s eta 0:00:01\n",
      "   ----------------------------------- --- 186.3/203.1 MB 24.2 MB/s eta 0:00:01\n",
      "   ------------------------------------ -- 187.6/203.1 MB 25.2 MB/s eta 0:00:01\n",
      "   ------------------------------------ -- 188.6/203.1 MB 25.1 MB/s eta 0:00:01\n",
      "   ------------------------------------ -- 190.1/203.1 MB 27.3 MB/s eta 0:00:01\n",
      "   ------------------------------------ -- 191.0/203.1 MB 28.5 MB/s eta 0:00:01\n",
      "   ------------------------------------ -- 192.6/203.1 MB 26.2 MB/s eta 0:00:01\n",
      "   ------------------------------------- - 193.9/203.1 MB 26.2 MB/s eta 0:00:01\n",
      "   ------------------------------------- - 194.9/203.1 MB 27.3 MB/s eta 0:00:01\n",
      "   ------------------------------------- - 195.2/203.1 MB 24.2 MB/s eta 0:00:01\n",
      "   ------------------------------------- - 197.5/203.1 MB 27.3 MB/s eta 0:00:01\n",
      "   --------------------------------------  199.1/203.1 MB 27.3 MB/s eta 0:00:01\n",
      "   --------------------------------------  199.6/203.1 MB 27.3 MB/s eta 0:00:01\n",
      "   --------------------------------------  199.6/203.1 MB 27.3 MB/s eta 0:00:01\n",
      "   --------------------------------------  199.6/203.1 MB 27.3 MB/s eta 0:00:01\n",
      "   --------------------------------------  199.6/203.1 MB 27.3 MB/s eta 0:00:01\n",
      "   --------------------------------------  199.6/203.1 MB 27.3 MB/s eta 0:00:01\n",
      "   --------------------------------------  199.6/203.1 MB 27.3 MB/s eta 0:00:01\n",
      "   --------------------------------------  199.6/203.1 MB 27.3 MB/s eta 0:00:01\n",
      "   --------------------------------------  200.2/203.1 MB 14.6 MB/s eta 0:00:01\n",
      "   --------------------------------------  200.6/203.1 MB 14.2 MB/s eta 0:00:01\n",
      "   --------------------------------------  200.6/203.1 MB 14.2 MB/s eta 0:00:01\n",
      "   --------------------------------------  200.6/203.1 MB 14.2 MB/s eta 0:00:01\n",
      "   --------------------------------------  200.6/203.1 MB 14.2 MB/s eta 0:00:01\n",
      "   --------------------------------------  200.6/203.1 MB 14.2 MB/s eta 0:00:01\n",
      "   --------------------------------------  200.6/203.1 MB 14.2 MB/s eta 0:00:01\n",
      "   --------------------------------------  202.7/203.1 MB 10.9 MB/s eta 0:00:01\n",
      "   --------------------------------------  203.1/203.1 MB 10.9 MB/s eta 0:00:01\n",
      "   --------------------------------------  203.1/203.1 MB 10.9 MB/s eta 0:00:01\n",
      "   --------------------------------------  203.1/203.1 MB 10.9 MB/s eta 0:00:01\n",
      "   --------------------------------------  203.1/203.1 MB 10.9 MB/s eta 0:00:01\n",
      "   --------------------------------------  203.1/203.1 MB 10.9 MB/s eta 0:00:01\n",
      "   --------------------------------------  203.1/203.1 MB 10.9 MB/s eta 0:00:01\n",
      "   --------------------------------------  203.1/203.1 MB 10.9 MB/s eta 0:00:01\n",
      "   --------------------------------------  203.1/203.1 MB 10.9 MB/s eta 0:00:01\n",
      "   --------------------------------------  203.1/203.1 MB 10.9 MB/s eta 0:00:01\n",
      "   --------------------------------------  203.1/203.1 MB 10.9 MB/s eta 0:00:01\n",
      "   --------------------------------------  203.1/203.1 MB 10.9 MB/s eta 0:00:01\n",
      "   --------------------------------------  203.1/203.1 MB 10.9 MB/s eta 0:00:01\n",
      "   --------------------------------------  203.1/203.1 MB 10.9 MB/s eta 0:00:01\n",
      "   --------------------------------------  203.1/203.1 MB 10.9 MB/s eta 0:00:01\n",
      "   --------------------------------------  203.1/203.1 MB 10.9 MB/s eta 0:00:01\n",
      "   --------------------------------------  203.1/203.1 MB 10.9 MB/s eta 0:00:01\n",
      "   --------------------------------------  203.1/203.1 MB 10.9 MB/s eta 0:00:01\n",
      "   --------------------------------------  203.1/203.1 MB 10.9 MB/s eta 0:00:01\n",
      "   --------------------------------------  203.1/203.1 MB 10.9 MB/s eta 0:00:01\n",
      "   --------------------------------------  203.1/203.1 MB 10.9 MB/s eta 0:00:01\n",
      "   --------------------------------------  203.1/203.1 MB 10.9 MB/s eta 0:00:01\n",
      "   --------------------------------------  203.1/203.1 MB 10.9 MB/s eta 0:00:01\n",
      "   --------------------------------------  203.1/203.1 MB 10.9 MB/s eta 0:00:01\n",
      "   --------------------------------------  203.1/203.1 MB 10.9 MB/s eta 0:00:01\n",
      "   --------------------------------------  203.1/203.1 MB 10.9 MB/s eta 0:00:01\n",
      "   --------------------------------------  203.1/203.1 MB 10.9 MB/s eta 0:00:01\n",
      "   --------------------------------------  203.1/203.1 MB 10.9 MB/s eta 0:00:01\n",
      "   --------------------------------------  203.1/203.1 MB 10.9 MB/s eta 0:00:01\n",
      "   --------------------------------------  203.1/203.1 MB 10.9 MB/s eta 0:00:01\n",
      "   --------------------------------------  203.1/203.1 MB 10.9 MB/s eta 0:00:01\n",
      "   --------------------------------------  203.1/203.1 MB 10.9 MB/s eta 0:00:01\n",
      "   --------------------------------------  203.1/203.1 MB 10.9 MB/s eta 0:00:01\n",
      "   --------------------------------------  203.1/203.1 MB 10.9 MB/s eta 0:00:01\n",
      "   --------------------------------------  203.1/203.1 MB 10.9 MB/s eta 0:00:01\n",
      "   --------------------------------------  203.1/203.1 MB 10.9 MB/s eta 0:00:01\n",
      "   --------------------------------------  203.1/203.1 MB 10.9 MB/s eta 0:00:01\n",
      "   --------------------------------------  203.1/203.1 MB 10.9 MB/s eta 0:00:01\n",
      "   --------------------------------------  203.1/203.1 MB 10.9 MB/s eta 0:00:01\n",
      "   --------------------------------------  203.1/203.1 MB 10.9 MB/s eta 0:00:01\n",
      "   --------------------------------------  203.1/203.1 MB 10.9 MB/s eta 0:00:01\n",
      "   --------------------------------------  203.1/203.1 MB 10.9 MB/s eta 0:00:01\n",
      "   --------------------------------------  203.1/203.1 MB 10.9 MB/s eta 0:00:01\n",
      "   --------------------------------------  203.1/203.1 MB 10.9 MB/s eta 0:00:01\n",
      "   --------------------------------------  203.1/203.1 MB 10.9 MB/s eta 0:00:01\n",
      "   --------------------------------------  203.1/203.1 MB 10.9 MB/s eta 0:00:01\n",
      "   --------------------------------------  203.1/203.1 MB 10.9 MB/s eta 0:00:01\n",
      "   --------------------------------------  203.1/203.1 MB 10.9 MB/s eta 0:00:01\n",
      "   --------------------------------------  203.1/203.1 MB 10.9 MB/s eta 0:00:01\n",
      "   --------------------------------------  203.1/203.1 MB 10.9 MB/s eta 0:00:01\n",
      "   --------------------------------------  203.1/203.1 MB 10.9 MB/s eta 0:00:01\n",
      "   --------------------------------------  203.1/203.1 MB 10.9 MB/s eta 0:00:01\n",
      "   --------------------------------------  203.1/203.1 MB 10.9 MB/s eta 0:00:01\n",
      "   --------------------------------------  203.1/203.1 MB 10.9 MB/s eta 0:00:01\n",
      "   --------------------------------------  203.1/203.1 MB 10.9 MB/s eta 0:00:01\n",
      "   --------------------------------------  203.1/203.1 MB 10.9 MB/s eta 0:00:01\n",
      "   --------------------------------------  203.1/203.1 MB 10.9 MB/s eta 0:00:01\n",
      "   --------------------------------------  203.1/203.1 MB 10.9 MB/s eta 0:00:01\n",
      "   --------------------------------------  203.1/203.1 MB 10.9 MB/s eta 0:00:01\n",
      "   --------------------------------------  203.1/203.1 MB 10.9 MB/s eta 0:00:01\n",
      "   --------------------------------------  203.1/203.1 MB 10.9 MB/s eta 0:00:01\n",
      "   --------------------------------------  203.1/203.1 MB 10.9 MB/s eta 0:00:01\n",
      "   --------------------------------------  203.1/203.1 MB 10.9 MB/s eta 0:00:01\n",
      "   --------------------------------------  203.1/203.1 MB 10.9 MB/s eta 0:00:01\n",
      "   --------------------------------------  203.1/203.1 MB 10.9 MB/s eta 0:00:01\n",
      "   --------------------------------------  203.1/203.1 MB 10.9 MB/s eta 0:00:01\n",
      "   --------------------------------------  203.1/203.1 MB 10.9 MB/s eta 0:00:01\n",
      "   --------------------------------------  203.1/203.1 MB 10.9 MB/s eta 0:00:01\n",
      "   --------------------------------------  203.1/203.1 MB 10.9 MB/s eta 0:00:01\n",
      "   --------------------------------------  203.1/203.1 MB 10.9 MB/s eta 0:00:01\n",
      "   --------------------------------------  203.1/203.1 MB 10.9 MB/s eta 0:00:01\n",
      "   --------------------------------------  203.1/203.1 MB 10.9 MB/s eta 0:00:01\n",
      "   --------------------------------------  203.1/203.1 MB 10.9 MB/s eta 0:00:01\n",
      "   --------------------------------------  203.1/203.1 MB 10.9 MB/s eta 0:00:01\n",
      "   --------------------------------------  203.1/203.1 MB 10.9 MB/s eta 0:00:01\n",
      "   --------------------------------------  203.1/203.1 MB 10.9 MB/s eta 0:00:01\n",
      "   --------------------------------------  203.1/203.1 MB 10.9 MB/s eta 0:00:01\n",
      "   --------------------------------------  203.1/203.1 MB 10.9 MB/s eta 0:00:01\n",
      "   --------------------------------------  203.1/203.1 MB 10.9 MB/s eta 0:00:01\n",
      "   --------------------------------------  203.1/203.1 MB 10.9 MB/s eta 0:00:01\n",
      "   --------------------------------------  203.1/203.1 MB 10.9 MB/s eta 0:00:01\n",
      "   --------------------------------------  203.1/203.1 MB 10.9 MB/s eta 0:00:01\n",
      "   --------------------------------------  203.1/203.1 MB 10.9 MB/s eta 0:00:01\n",
      "   --------------------------------------  203.1/203.1 MB 10.9 MB/s eta 0:00:01\n",
      "   --------------------------------------  203.1/203.1 MB 10.9 MB/s eta 0:00:01\n",
      "   --------------------------------------  203.1/203.1 MB 10.9 MB/s eta 0:00:01\n",
      "   --------------------------------------  203.1/203.1 MB 10.9 MB/s eta 0:00:01\n",
      "   --------------------------------------  203.1/203.1 MB 10.9 MB/s eta 0:00:01\n",
      "   --------------------------------------  203.1/203.1 MB 10.9 MB/s eta 0:00:01\n",
      "   --------------------------------------  203.1/203.1 MB 10.9 MB/s eta 0:00:01\n",
      "   --------------------------------------  203.1/203.1 MB 10.9 MB/s eta 0:00:01\n",
      "   --------------------------------------  203.1/203.1 MB 10.9 MB/s eta 0:00:01\n",
      "   --------------------------------------  203.1/203.1 MB 10.9 MB/s eta 0:00:01\n",
      "   --------------------------------------  203.1/203.1 MB 10.9 MB/s eta 0:00:01\n",
      "   --------------------------------------  203.1/203.1 MB 10.9 MB/s eta 0:00:01\n",
      "   --------------------------------------  203.1/203.1 MB 10.9 MB/s eta 0:00:01\n",
      "   --------------------------------------  203.1/203.1 MB 10.9 MB/s eta 0:00:01\n",
      "   --------------------------------------  203.1/203.1 MB 10.9 MB/s eta 0:00:01\n",
      "   --------------------------------------  203.1/203.1 MB 10.9 MB/s eta 0:00:01\n",
      "   --------------------------------------  203.1/203.1 MB 10.9 MB/s eta 0:00:01\n",
      "   --------------------------------------  203.1/203.1 MB 10.9 MB/s eta 0:00:01\n",
      "   --------------------------------------  203.1/203.1 MB 10.9 MB/s eta 0:00:01\n",
      "   --------------------------------------  203.1/203.1 MB 10.9 MB/s eta 0:00:01\n",
      "   --------------------------------------  203.1/203.1 MB 10.9 MB/s eta 0:00:01\n",
      "   --------------------------------------  203.1/203.1 MB 10.9 MB/s eta 0:00:01\n",
      "   --------------------------------------  203.1/203.1 MB 10.9 MB/s eta 0:00:01\n",
      "   --------------------------------------  203.1/203.1 MB 10.9 MB/s eta 0:00:01\n",
      "   --------------------------------------  203.1/203.1 MB 10.9 MB/s eta 0:00:01\n",
      "   --------------------------------------  203.1/203.1 MB 10.9 MB/s eta 0:00:01\n",
      "   --------------------------------------  203.1/203.1 MB 10.9 MB/s eta 0:00:01\n",
      "   --------------------------------------  203.1/203.1 MB 10.9 MB/s eta 0:00:01\n",
      "   --------------------------------------  203.1/203.1 MB 10.9 MB/s eta 0:00:01\n",
      "   --------------------------------------  203.1/203.1 MB 10.9 MB/s eta 0:00:01\n",
      "   --------------------------------------  203.1/203.1 MB 10.9 MB/s eta 0:00:01\n",
      "   --------------------------------------  203.1/203.1 MB 10.9 MB/s eta 0:00:01\n",
      "   --------------------------------------  203.1/203.1 MB 10.9 MB/s eta 0:00:01\n",
      "   --------------------------------------  203.1/203.1 MB 10.9 MB/s eta 0:00:01\n",
      "   --------------------------------------  203.1/203.1 MB 10.9 MB/s eta 0:00:01\n",
      "   --------------------------------------  203.1/203.1 MB 10.9 MB/s eta 0:00:01\n",
      "   --------------------------------------  203.1/203.1 MB 10.9 MB/s eta 0:00:01\n",
      "   --------------------------------------  203.1/203.1 MB 10.9 MB/s eta 0:00:01\n",
      "   --------------------------------------  203.1/203.1 MB 10.9 MB/s eta 0:00:01\n",
      "   --------------------------------------  203.1/203.1 MB 10.9 MB/s eta 0:00:01\n",
      "   --------------------------------------  203.1/203.1 MB 10.9 MB/s eta 0:00:01\n",
      "   ---------------------------------------- 203.1/203.1 MB 1.4 MB/s eta 0:00:00\n",
      "Downloading torchvision-0.20.1-cp311-cp311-win_amd64.whl (1.6 MB)\n",
      "   ---------------------------------------- 0.0/1.6 MB ? eta -:--:--\n",
      "   ---------------------------- ----------- 1.1/1.6 MB 35.7 MB/s eta 0:00:01\n",
      "   ---------------------------------------  1.6/1.6 MB 32.9 MB/s eta 0:00:01\n",
      "   ---------------------------------------  1.6/1.6 MB 32.9 MB/s eta 0:00:01\n",
      "   ---------------------------------------- 1.6/1.6 MB 11.0 MB/s eta 0:00:00\n",
      "Downloading torchaudio-2.5.1-cp311-cp311-win_amd64.whl (2.4 MB)\n",
      "   ---------------------------------------- 0.0/2.4 MB ? eta -:--:--\n",
      "   ----------------- ---------------------- 1.0/2.4 MB 32.3 MB/s eta 0:00:01\n",
      "   ----------------------------------- ---- 2.2/2.4 MB 27.3 MB/s eta 0:00:01\n",
      "   ---------------------------------------  2.4/2.4 MB 25.8 MB/s eta 0:00:01\n",
      "   ---------------------------------------- 2.4/2.4 MB 15.5 MB/s eta 0:00:00\n",
      "Downloading typing_extensions-4.12.2-py3-none-any.whl (37 kB)\n",
      "Installing collected packages: typing-extensions, sympy, torch, torchvision, torchaudio\n",
      "Successfully installed sympy-1.13.1 torch-2.5.1 torchaudio-2.5.1 torchvision-0.20.1 typing-extensions-4.12.2\n"
     ]
    },
    {
     "name": "stderr",
     "output_type": "stream",
     "text": [
      "DEPRECATION: Loading egg at c:\\programdata\\anaconda3\\lib\\site-packages\\vboxapi-1.0-py3.11.egg is deprecated. pip 23.3 will enforce this behaviour change. A possible replacement is to use pip for package installation..\n",
      "  WARNING: The script isympy.exe is installed in 'C:\\Users\\Admin\\AppData\\Roaming\\Python\\Python311\\Scripts' which is not on PATH.\n",
      "  Consider adding this directory to PATH or, if you prefer to suppress this warning, use --no-warn-script-location.\n",
      "  WARNING: The scripts convert-caffe2-to-onnx.exe, convert-onnx-to-caffe2.exe, torchfrtrace.exe and torchrun.exe are installed in 'C:\\Users\\Admin\\AppData\\Roaming\\Python\\Python311\\Scripts' which is not on PATH.\n",
      "  Consider adding this directory to PATH or, if you prefer to suppress this warning, use --no-warn-script-location.\n"
     ]
    }
   ],
   "source": [
    "!pip3 install torch torchvision torchaudio --extra-index-url https://download.pytorch.org/whl/cu115"
   ]
  },
  {
   "cell_type": "code",
   "execution_count": 8,
   "metadata": {
    "id": "tPZzuHjF4X9L"
   },
   "outputs": [
    {
     "name": "stdout",
     "output_type": "stream",
     "text": [
      "2.5.1+cpu\n"
     ]
    },
    {
     "data": {
      "text/plain": [
       "False"
      ]
     },
     "execution_count": 8,
     "metadata": {},
     "output_type": "execute_result"
    }
   ],
   "source": [
    "import torch\n",
    "import torch.nn as nn\n",
    "print(torch.__version__)\n",
    "torch.cuda.is_available()"
   ]
  },
  {
   "cell_type": "code",
   "execution_count": null,
   "metadata": {
    "id": "On5RWBZ34ZlX"
   },
   "outputs": [],
   "source": []
  },
  {
   "cell_type": "code",
   "execution_count": null,
   "metadata": {
    "id": "NFE1tSdW4Z1b"
   },
   "outputs": [],
   "source": []
  },
  {
   "cell_type": "code",
   "execution_count": null,
   "metadata": {
    "colab": {
     "base_uri": "https://localhost:8080/"
    },
    "id": "y4riSHJq4a9V",
    "outputId": "282c297f-a3b1-4500-e213-3fcb86c8f641"
   },
   "outputs": [],
   "source": []
  },
  {
   "cell_type": "markdown",
   "metadata": {
    "id": "H9_kUJNe4dlS"
   },
   "source": []
  },
  {
   "cell_type": "code",
   "execution_count": null,
   "metadata": {
    "colab": {
     "base_uri": "https://localhost:8080/"
    },
    "id": "IsiiMMbN4g7I",
    "outputId": "a32ecfcc-a1c5-4a48-a03b-c40c6525d88a"
   },
   "outputs": [],
   "source": []
  },
  {
   "cell_type": "code",
   "execution_count": null,
   "metadata": {
    "id": "cju81-Qq4mXs"
   },
   "outputs": [],
   "source": []
  },
  {
   "cell_type": "code",
   "execution_count": null,
   "metadata": {
    "colab": {
     "base_uri": "https://localhost:8080/"
    },
    "id": "v8Pa1fuw4o5z",
    "outputId": "3493f5e4-2780-4a88-e54a-e9215a0ab46e"
   },
   "outputs": [],
   "source": []
  },
  {
   "cell_type": "code",
   "execution_count": null,
   "metadata": {
    "colab": {
     "base_uri": "https://localhost:8080/"
    },
    "id": "qCfnunlg4pKW",
    "outputId": "1c942374-dec0-4088-aa80-9da85c042415",
    "scrolled": true
   },
   "outputs": [],
   "source": []
  },
  {
   "cell_type": "code",
   "execution_count": null,
   "metadata": {},
   "outputs": [],
   "source": []
  }
 ],
 "metadata": {
  "colab": {
   "collapsed_sections": [],
   "provenance": []
  },
  "kernelspec": {
   "display_name": "Python 3 (ipykernel)",
   "language": "python",
   "name": "python3"
  },
  "language_info": {
   "codemirror_mode": {
    "name": "ipython",
    "version": 3
   },
   "file_extension": ".py",
   "mimetype": "text/x-python",
   "name": "python",
   "nbconvert_exporter": "python",
   "pygments_lexer": "ipython3",
   "version": "3.11.5"
  }
 },
 "nbformat": 4,
 "nbformat_minor": 1
}
