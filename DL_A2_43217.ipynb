{
 "cells": [
  {
   "cell_type": "markdown",
   "metadata": {
    "id": "tPIKfVcI7cXn"
   },
   "source": [
    "Name: **Megha Dandapat**<br>\n",
    "Div: **BE10**<br>\n",
    "Roll no: **43217**<br>\n",
    "Title: **Assignment 2: Implementing Feedforward neural networks with Keras and TensorFlow**<br>"
   ]
  },
  {
   "cell_type": "code",
   "execution_count": 10,
   "metadata": {
    "id": "hcpVc-38-OFf"
   },
   "outputs": [],
   "source": [
    "#installations\n",
    "from sklearn.preprocessing import LabelBinarizer\n",
    "from sklearn.metrics import classification_report\n",
    "from tensorflow.keras.models import Sequential\n",
    "from tensorflow.keras.layers import Dense\n",
    "from tensorflow.keras.optimizers import Adam\n",
    "from tensorflow.keras.datasets import mnist\n"
   ]
  },
  {
   "cell_type": "code",
   "execution_count": 11,
   "metadata": {},
   "outputs": [],
   "source": [
    "import matplotlib.pyplot as plt\n",
    "import numpy as np"
   ]
  },
  {
   "cell_type": "code",
   "execution_count": 12,
   "metadata": {},
   "outputs": [
    {
     "name": "stdout",
     "output_type": "stream",
     "text": [
      "[INFO] accessing MNIST...\n"
     ]
    }
   ],
   "source": [
    "print(\"[INFO] accessing MNIST...\")"
   ]
  },
  {
   "cell_type": "code",
   "execution_count": 13,
   "metadata": {},
   "outputs": [],
   "source": [
    "((trainX, trainY), (testX, testY)) = mnist.load_data() "
   ]
  },
  {
   "cell_type": "code",
   "execution_count": 14,
   "metadata": {},
   "outputs": [
    {
     "data": {
      "text/plain": [
       "(60000, 28, 28)"
      ]
     },
     "execution_count": 14,
     "metadata": {},
     "output_type": "execute_result"
    }
   ],
   "source": [
    "trainX.shape"
   ]
  },
  {
   "cell_type": "code",
   "execution_count": null,
   "metadata": {},
   "outputs": [],
   "source": []
  },
  {
   "cell_type": "code",
   "execution_count": 16,
   "metadata": {
    "id": "LUZLOYG8-Yz2"
   },
   "outputs": [],
   "source": [
    "trainX = trainX.reshape((trainX.shape[0], 28 * 28 * 1)) \n",
    "testX = testX.reshape((testX.shape[0], 28 * 28 * 1))"
   ]
  },
  {
   "cell_type": "code",
   "execution_count": 17,
   "metadata": {},
   "outputs": [],
   "source": [
    "trainX = trainX.astype(\"float32\") / 255.0 \n",
    "testX = testX.astype(\"float32\") / 255.0"
   ]
  },
  {
   "cell_type": "code",
   "execution_count": 19,
   "metadata": {
    "id": "rGDSwm8e-i44"
   },
   "outputs": [],
   "source": [
    "lb = LabelBinarizer()\n",
    "trainY = lb.fit_transform(trainY)\n",
    "testY = lb.transform(testY)"
   ]
  },
  {
   "cell_type": "code",
   "execution_count": 20,
   "metadata": {
    "id": "lxBbB-yA-s_g"
   },
   "outputs": [],
   "source": [
    "#building the model\n",
    "model.add(Dense(256, input_shape=(784,), activation=\"relu\")) \n",
    "model.add(Dense(128, activation=\"relu\"))\n",
    "model.add(Dense(64, activation=\"relu\"))\n",
    "model.add(Dense(10, activation=\"softmax\"))"
   ]
  },
  {
   "cell_type": "code",
   "execution_count": 21,
   "metadata": {
    "colab": {
     "base_uri": "https://localhost:8080/"
    },
    "id": "xKc03Mvz-wrz",
    "outputId": "b0544424-d139-48f9-c1bc-1f6f5d659645"
   },
   "outputs": [
    {
     "name": "stdout",
     "output_type": "stream",
     "text": [
      "Epoch 1/100\n",
      "469/469 [==============================] - 3s 4ms/step - loss: 0.3495 - accuracy: 0.8967 - val_loss: 0.1747 - val_accuracy: 0.9525\n",
      "Epoch 2/100\n",
      "469/469 [==============================] - 2s 3ms/step - loss: 0.1584 - accuracy: 0.9565 - val_loss: 0.1623 - val_accuracy: 0.9569\n",
      "Epoch 3/100\n",
      "469/469 [==============================] - 1s 3ms/step - loss: 0.1168 - accuracy: 0.9684 - val_loss: 0.1252 - val_accuracy: 0.9657\n",
      "Epoch 4/100\n",
      "469/469 [==============================] - 1s 3ms/step - loss: 0.1001 - accuracy: 0.9722 - val_loss: 0.1320 - val_accuracy: 0.9664\n",
      "Epoch 5/100\n",
      "469/469 [==============================] - 1s 3ms/step - loss: 0.0923 - accuracy: 0.9744 - val_loss: 0.1158 - val_accuracy: 0.9677\n",
      "Epoch 6/100\n",
      "469/469 [==============================] - 1s 3ms/step - loss: 0.0901 - accuracy: 0.9760 - val_loss: 0.1704 - val_accuracy: 0.9497\n",
      "Epoch 7/100\n",
      "469/469 [==============================] - 1s 3ms/step - loss: 0.0770 - accuracy: 0.9779 - val_loss: 0.1046 - val_accuracy: 0.9737\n",
      "Epoch 8/100\n",
      "469/469 [==============================] - 1s 3ms/step - loss: 0.0744 - accuracy: 0.9800 - val_loss: 0.1134 - val_accuracy: 0.9704\n",
      "Epoch 9/100\n",
      "469/469 [==============================] - 1s 3ms/step - loss: 0.0697 - accuracy: 0.9811 - val_loss: 0.1430 - val_accuracy: 0.9676\n",
      "Epoch 10/100\n",
      "469/469 [==============================] - 1s 3ms/step - loss: 0.0704 - accuracy: 0.9805 - val_loss: 0.1258 - val_accuracy: 0.9697\n",
      "Epoch 11/100\n",
      "469/469 [==============================] - 1s 3ms/step - loss: 0.0647 - accuracy: 0.9821 - val_loss: 0.1199 - val_accuracy: 0.9719\n",
      "Epoch 12/100\n",
      "469/469 [==============================] - 1s 3ms/step - loss: 0.0624 - accuracy: 0.9829 - val_loss: 0.1059 - val_accuracy: 0.9735\n",
      "Epoch 13/100\n",
      "469/469 [==============================] - 2s 4ms/step - loss: 0.0569 - accuracy: 0.9840 - val_loss: 0.1415 - val_accuracy: 0.9703\n",
      "Epoch 14/100\n",
      "469/469 [==============================] - 1s 3ms/step - loss: 0.0565 - accuracy: 0.9847 - val_loss: 0.1232 - val_accuracy: 0.9732\n",
      "Epoch 15/100\n",
      "469/469 [==============================] - 1s 3ms/step - loss: 0.0516 - accuracy: 0.9863 - val_loss: 0.1379 - val_accuracy: 0.9686\n",
      "Epoch 16/100\n",
      "469/469 [==============================] - 1s 3ms/step - loss: 0.0634 - accuracy: 0.9824 - val_loss: 0.1358 - val_accuracy: 0.9682\n",
      "Epoch 17/100\n",
      "469/469 [==============================] - 2s 3ms/step - loss: 0.0493 - accuracy: 0.9868 - val_loss: 0.1227 - val_accuracy: 0.9710\n",
      "Epoch 18/100\n",
      "469/469 [==============================] - 1s 3ms/step - loss: 0.0505 - accuracy: 0.9865 - val_loss: 0.1109 - val_accuracy: 0.9733\n",
      "Epoch 19/100\n",
      "469/469 [==============================] - 2s 3ms/step - loss: 0.0545 - accuracy: 0.9855 - val_loss: 0.1385 - val_accuracy: 0.9684\n",
      "Epoch 20/100\n",
      "469/469 [==============================] - 2s 3ms/step - loss: 0.0491 - accuracy: 0.9866 - val_loss: 0.1322 - val_accuracy: 0.9689\n",
      "Epoch 21/100\n",
      "469/469 [==============================] - 2s 3ms/step - loss: 0.0530 - accuracy: 0.9859 - val_loss: 0.1198 - val_accuracy: 0.9727\n",
      "Epoch 22/100\n",
      "469/469 [==============================] - 2s 3ms/step - loss: 0.0458 - accuracy: 0.9870 - val_loss: 0.1206 - val_accuracy: 0.9724\n",
      "Epoch 23/100\n",
      "469/469 [==============================] - 2s 3ms/step - loss: 0.0493 - accuracy: 0.9863 - val_loss: 0.1089 - val_accuracy: 0.9761\n",
      "Epoch 24/100\n",
      "469/469 [==============================] - 2s 3ms/step - loss: 0.0458 - accuracy: 0.9872 - val_loss: 0.1486 - val_accuracy: 0.9700\n",
      "Epoch 25/100\n",
      "469/469 [==============================] - 2s 3ms/step - loss: 0.0483 - accuracy: 0.9866 - val_loss: 0.1302 - val_accuracy: 0.9745\n",
      "Epoch 26/100\n",
      "469/469 [==============================] - 2s 3ms/step - loss: 0.0442 - accuracy: 0.9876 - val_loss: 0.1323 - val_accuracy: 0.9739\n",
      "Epoch 27/100\n",
      "469/469 [==============================] - 2s 4ms/step - loss: 0.0353 - accuracy: 0.9902 - val_loss: 0.1131 - val_accuracy: 0.9752\n",
      "Epoch 28/100\n",
      "469/469 [==============================] - 2s 4ms/step - loss: 0.0402 - accuracy: 0.9889 - val_loss: 0.1181 - val_accuracy: 0.9766\n",
      "Epoch 29/100\n",
      "469/469 [==============================] - 2s 4ms/step - loss: 0.0483 - accuracy: 0.9872 - val_loss: 0.1125 - val_accuracy: 0.9737\n",
      "Epoch 30/100\n",
      "469/469 [==============================] - 1s 3ms/step - loss: 0.0435 - accuracy: 0.9882 - val_loss: 0.1343 - val_accuracy: 0.9721\n",
      "Epoch 31/100\n",
      "469/469 [==============================] - 1s 3ms/step - loss: 0.0447 - accuracy: 0.9884 - val_loss: 0.1371 - val_accuracy: 0.9724\n",
      "Epoch 32/100\n",
      "469/469 [==============================] - 1s 3ms/step - loss: 0.0416 - accuracy: 0.9890 - val_loss: 0.1104 - val_accuracy: 0.9750\n",
      "Epoch 33/100\n",
      "469/469 [==============================] - 2s 3ms/step - loss: 0.0384 - accuracy: 0.9899 - val_loss: 0.1255 - val_accuracy: 0.9737\n",
      "Epoch 34/100\n",
      "469/469 [==============================] - 2s 3ms/step - loss: 0.0449 - accuracy: 0.9876 - val_loss: 0.1216 - val_accuracy: 0.9735\n",
      "Epoch 35/100\n",
      "469/469 [==============================] - 2s 3ms/step - loss: 0.0357 - accuracy: 0.9903 - val_loss: 0.1252 - val_accuracy: 0.9734\n",
      "Epoch 36/100\n",
      "469/469 [==============================] - 2s 3ms/step - loss: 0.0389 - accuracy: 0.9893 - val_loss: 0.1333 - val_accuracy: 0.9703\n",
      "Epoch 37/100\n",
      "469/469 [==============================] - 2s 4ms/step - loss: 0.0424 - accuracy: 0.9886 - val_loss: 0.1447 - val_accuracy: 0.9718\n",
      "Epoch 38/100\n",
      "469/469 [==============================] - 2s 4ms/step - loss: 0.0380 - accuracy: 0.9896 - val_loss: 0.1281 - val_accuracy: 0.9744\n",
      "Epoch 39/100\n",
      "469/469 [==============================] - 2s 3ms/step - loss: 0.0396 - accuracy: 0.9897 - val_loss: 0.1275 - val_accuracy: 0.9751\n",
      "Epoch 40/100\n",
      "469/469 [==============================] - 2s 3ms/step - loss: 0.0351 - accuracy: 0.9906 - val_loss: 0.1308 - val_accuracy: 0.9724\n",
      "Epoch 41/100\n",
      "469/469 [==============================] - 2s 3ms/step - loss: 0.0371 - accuracy: 0.9904 - val_loss: 0.1319 - val_accuracy: 0.9689\n",
      "Epoch 42/100\n",
      "469/469 [==============================] - 2s 3ms/step - loss: 0.0333 - accuracy: 0.9913 - val_loss: 0.1379 - val_accuracy: 0.9768\n",
      "Epoch 43/100\n",
      "469/469 [==============================] - 2s 3ms/step - loss: 0.0330 - accuracy: 0.9911 - val_loss: 0.1448 - val_accuracy: 0.9742\n",
      "Epoch 44/100\n",
      "469/469 [==============================] - 2s 3ms/step - loss: 0.0364 - accuracy: 0.9898 - val_loss: 0.1224 - val_accuracy: 0.9751\n",
      "Epoch 45/100\n",
      "469/469 [==============================] - 2s 3ms/step - loss: 0.0335 - accuracy: 0.9912 - val_loss: 0.1467 - val_accuracy: 0.9740\n",
      "Epoch 46/100\n",
      "469/469 [==============================] - 2s 3ms/step - loss: 0.0400 - accuracy: 0.9893 - val_loss: 0.1287 - val_accuracy: 0.9752\n",
      "Epoch 47/100\n",
      "469/469 [==============================] - 2s 3ms/step - loss: 0.0402 - accuracy: 0.9894 - val_loss: 0.1331 - val_accuracy: 0.9715\n",
      "Epoch 48/100\n",
      "469/469 [==============================] - 2s 3ms/step - loss: 0.0476 - accuracy: 0.9867 - val_loss: 0.1480 - val_accuracy: 0.9705\n",
      "Epoch 49/100\n",
      "469/469 [==============================] - 2s 3ms/step - loss: 0.0389 - accuracy: 0.9893 - val_loss: 0.1419 - val_accuracy: 0.9701\n",
      "Epoch 50/100\n",
      "469/469 [==============================] - 2s 4ms/step - loss: 0.0387 - accuracy: 0.9893 - val_loss: 0.1393 - val_accuracy: 0.9714\n",
      "Epoch 51/100\n",
      "469/469 [==============================] - 2s 3ms/step - loss: 0.0383 - accuracy: 0.9896 - val_loss: 0.1493 - val_accuracy: 0.9725\n",
      "Epoch 52/100\n",
      "469/469 [==============================] - 2s 3ms/step - loss: 0.0418 - accuracy: 0.9888 - val_loss: 0.1308 - val_accuracy: 0.9723\n",
      "Epoch 53/100\n",
      "469/469 [==============================] - 2s 3ms/step - loss: 0.0323 - accuracy: 0.9906 - val_loss: 0.1365 - val_accuracy: 0.9727\n",
      "Epoch 54/100\n",
      "469/469 [==============================] - 2s 3ms/step - loss: 0.0323 - accuracy: 0.9915 - val_loss: 0.1410 - val_accuracy: 0.9725\n",
      "Epoch 55/100\n",
      "469/469 [==============================] - 2s 3ms/step - loss: 0.0345 - accuracy: 0.9911 - val_loss: 0.1485 - val_accuracy: 0.9702\n",
      "Epoch 56/100\n",
      "469/469 [==============================] - 2s 3ms/step - loss: 0.0437 - accuracy: 0.9886 - val_loss: 0.1388 - val_accuracy: 0.9724\n",
      "Epoch 57/100\n",
      "469/469 [==============================] - 1s 3ms/step - loss: 0.0388 - accuracy: 0.9892 - val_loss: 0.1527 - val_accuracy: 0.9706\n"
     ]
    },
    {
     "name": "stdout",
     "output_type": "stream",
     "text": [
      "Epoch 58/100\n",
      "469/469 [==============================] - 2s 3ms/step - loss: 0.0366 - accuracy: 0.9897 - val_loss: 0.1386 - val_accuracy: 0.9737\n",
      "Epoch 59/100\n",
      "469/469 [==============================] - 1s 3ms/step - loss: 0.0377 - accuracy: 0.9901 - val_loss: 0.1354 - val_accuracy: 0.9740\n",
      "Epoch 60/100\n",
      "469/469 [==============================] - 1s 3ms/step - loss: 0.0325 - accuracy: 0.9916 - val_loss: 0.1277 - val_accuracy: 0.9731\n",
      "Epoch 61/100\n",
      "469/469 [==============================] - 1s 3ms/step - loss: 0.0315 - accuracy: 0.9913 - val_loss: 0.1466 - val_accuracy: 0.9713\n",
      "Epoch 62/100\n",
      "469/469 [==============================] - 1s 3ms/step - loss: 0.0456 - accuracy: 0.9885 - val_loss: 0.1301 - val_accuracy: 0.9721\n",
      "Epoch 63/100\n",
      "469/469 [==============================] - 1s 3ms/step - loss: 0.0403 - accuracy: 0.9891 - val_loss: 0.1647 - val_accuracy: 0.9729\n",
      "Epoch 64/100\n",
      "469/469 [==============================] - 2s 3ms/step - loss: 0.0323 - accuracy: 0.9914 - val_loss: 0.1381 - val_accuracy: 0.9753\n",
      "Epoch 65/100\n",
      "469/469 [==============================] - 1s 3ms/step - loss: 0.0395 - accuracy: 0.9894 - val_loss: 0.1454 - val_accuracy: 0.9722\n",
      "Epoch 66/100\n",
      "469/469 [==============================] - 1s 3ms/step - loss: 0.0373 - accuracy: 0.9907 - val_loss: 0.1459 - val_accuracy: 0.9719\n",
      "Epoch 67/100\n",
      "469/469 [==============================] - 1s 3ms/step - loss: 0.0395 - accuracy: 0.9894 - val_loss: 0.1384 - val_accuracy: 0.9732\n",
      "Epoch 68/100\n",
      "469/469 [==============================] - 1s 3ms/step - loss: 0.0349 - accuracy: 0.9908 - val_loss: 0.1290 - val_accuracy: 0.9724\n",
      "Epoch 69/100\n",
      "469/469 [==============================] - 2s 3ms/step - loss: 0.0392 - accuracy: 0.9896 - val_loss: 0.1526 - val_accuracy: 0.9719\n",
      "Epoch 70/100\n",
      "469/469 [==============================] - 1s 3ms/step - loss: 0.0360 - accuracy: 0.9903 - val_loss: 0.1406 - val_accuracy: 0.9754\n",
      "Epoch 71/100\n",
      "469/469 [==============================] - 1s 3ms/step - loss: 0.0360 - accuracy: 0.9908 - val_loss: 0.1375 - val_accuracy: 0.9749\n",
      "Epoch 72/100\n",
      "469/469 [==============================] - 1s 3ms/step - loss: 0.0373 - accuracy: 0.9905 - val_loss: 0.1379 - val_accuracy: 0.9737\n",
      "Epoch 73/100\n",
      "469/469 [==============================] - 1s 3ms/step - loss: 0.0410 - accuracy: 0.9893 - val_loss: 0.1389 - val_accuracy: 0.9740\n",
      "Epoch 74/100\n",
      "469/469 [==============================] - 1s 3ms/step - loss: 0.0390 - accuracy: 0.9894 - val_loss: 0.1221 - val_accuracy: 0.9745\n",
      "Epoch 75/100\n",
      "469/469 [==============================] - 1s 3ms/step - loss: 0.0397 - accuracy: 0.9897 - val_loss: 0.1438 - val_accuracy: 0.9707\n",
      "Epoch 76/100\n",
      "469/469 [==============================] - 1s 3ms/step - loss: 0.0355 - accuracy: 0.9903 - val_loss: 0.1766 - val_accuracy: 0.9656\n",
      "Epoch 77/100\n",
      "469/469 [==============================] - 1s 3ms/step - loss: 0.0324 - accuracy: 0.9915 - val_loss: 0.1408 - val_accuracy: 0.9732\n",
      "Epoch 78/100\n",
      "469/469 [==============================] - 1s 3ms/step - loss: 0.0398 - accuracy: 0.9902 - val_loss: 0.1264 - val_accuracy: 0.9733\n",
      "Epoch 79/100\n",
      "469/469 [==============================] - 1s 3ms/step - loss: 0.0348 - accuracy: 0.9911 - val_loss: 0.1364 - val_accuracy: 0.9726\n",
      "Epoch 80/100\n",
      "469/469 [==============================] - 1s 3ms/step - loss: 0.0330 - accuracy: 0.9916 - val_loss: 0.1337 - val_accuracy: 0.9758\n",
      "Epoch 81/100\n",
      "469/469 [==============================] - 1s 3ms/step - loss: 0.0319 - accuracy: 0.9920 - val_loss: 0.1440 - val_accuracy: 0.9715\n",
      "Epoch 82/100\n",
      "469/469 [==============================] - 1s 3ms/step - loss: 0.0441 - accuracy: 0.9893 - val_loss: 0.1190 - val_accuracy: 0.9739\n",
      "Epoch 83/100\n",
      "469/469 [==============================] - 1s 3ms/step - loss: 0.0292 - accuracy: 0.9929 - val_loss: 0.1540 - val_accuracy: 0.9728\n",
      "Epoch 84/100\n",
      "469/469 [==============================] - 1s 3ms/step - loss: 0.0316 - accuracy: 0.9919 - val_loss: 0.1550 - val_accuracy: 0.9705\n",
      "Epoch 85/100\n",
      "469/469 [==============================] - 1s 3ms/step - loss: 0.0368 - accuracy: 0.9906 - val_loss: 0.1528 - val_accuracy: 0.9725\n",
      "Epoch 86/100\n",
      "469/469 [==============================] - 1s 3ms/step - loss: 0.0402 - accuracy: 0.9899 - val_loss: 0.1217 - val_accuracy: 0.9753\n",
      "Epoch 87/100\n",
      "469/469 [==============================] - 1s 3ms/step - loss: 0.0366 - accuracy: 0.9903 - val_loss: 0.1354 - val_accuracy: 0.9731\n",
      "Epoch 88/100\n",
      "469/469 [==============================] - 1s 3ms/step - loss: 0.0362 - accuracy: 0.9906 - val_loss: 0.1219 - val_accuracy: 0.9729\n",
      "Epoch 89/100\n",
      "469/469 [==============================] - 1s 3ms/step - loss: 0.0340 - accuracy: 0.9917 - val_loss: 0.1344 - val_accuracy: 0.9743\n",
      "Epoch 90/100\n",
      "469/469 [==============================] - 1s 3ms/step - loss: 0.0353 - accuracy: 0.9910 - val_loss: 0.1371 - val_accuracy: 0.9725\n",
      "Epoch 91/100\n",
      "469/469 [==============================] - 1s 3ms/step - loss: 0.0328 - accuracy: 0.9914 - val_loss: 0.1551 - val_accuracy: 0.9749\n",
      "Epoch 92/100\n",
      "469/469 [==============================] - 1s 3ms/step - loss: 0.0333 - accuracy: 0.9916 - val_loss: 0.1380 - val_accuracy: 0.9741\n",
      "Epoch 93/100\n",
      "469/469 [==============================] - 1s 3ms/step - loss: 0.0326 - accuracy: 0.9920 - val_loss: 0.1446 - val_accuracy: 0.9740\n",
      "Epoch 94/100\n",
      "469/469 [==============================] - 1s 3ms/step - loss: 0.0285 - accuracy: 0.9930 - val_loss: 0.1388 - val_accuracy: 0.9735\n",
      "Epoch 95/100\n",
      "469/469 [==============================] - 1s 3ms/step - loss: 0.0287 - accuracy: 0.9924 - val_loss: 0.1500 - val_accuracy: 0.9718\n",
      "Epoch 96/100\n",
      "469/469 [==============================] - 2s 3ms/step - loss: 0.0315 - accuracy: 0.9920 - val_loss: 0.1295 - val_accuracy: 0.9743\n",
      "Epoch 97/100\n",
      "469/469 [==============================] - 2s 3ms/step - loss: 0.0255 - accuracy: 0.9932 - val_loss: 0.1350 - val_accuracy: 0.9783\n",
      "Epoch 98/100\n",
      "469/469 [==============================] - 1s 3ms/step - loss: 0.0317 - accuracy: 0.9921 - val_loss: 0.1519 - val_accuracy: 0.9721\n",
      "Epoch 99/100\n",
      "469/469 [==============================] - 1s 3ms/step - loss: 0.0333 - accuracy: 0.9913 - val_loss: 0.1484 - val_accuracy: 0.9722\n",
      "Epoch 100/100\n",
      "469/469 [==============================] - 1s 3ms/step - loss: 0.0327 - accuracy: 0.9919 - val_loss: 0.1473 - val_accuracy: 0.9721\n"
     ]
    }
   ],
   "source": [
    "Adam = Adam(0.01)\n",
    "epochs=10\n",
    "model.compile(loss=\"categorical_crossentropy\", optimizer=Adam,metrics=[\"accuracy\"])\n",
    "H = model.fit(trainX, trainY, validation_data=(testX, testY),epochs=100, batch_size=128)"
   ]
  },
  {
   "cell_type": "code",
   "execution_count": 22,
   "metadata": {
    "colab": {
     "base_uri": "https://localhost:8080/"
    },
    "id": "Mhq0Upb3-8O3",
    "outputId": "eba335a5-13da-4ebd-dafa-1c137c15ff89"
   },
   "outputs": [
    {
     "name": "stdout",
     "output_type": "stream",
     "text": [
      "79/79 [==============================] - 0s 2ms/step\n",
      "              precision    recall  f1-score   support\n",
      "\n",
      "           0       0.99      0.99      0.99       980\n",
      "           1       0.98      0.99      0.99      1135\n",
      "           2       0.98      0.97      0.97      1032\n",
      "           3       0.96      0.97      0.96      1010\n",
      "           4       0.98      0.96      0.97       982\n",
      "           5       0.98      0.96      0.97       892\n",
      "           6       0.97      0.98      0.98       958\n",
      "           7       0.97      0.97      0.97      1028\n",
      "           8       0.96      0.97      0.97       974\n",
      "           9       0.94      0.97      0.95      1009\n",
      "\n",
      "    accuracy                           0.97     10000\n",
      "   macro avg       0.97      0.97      0.97     10000\n",
      "weighted avg       0.97      0.97      0.97     10000\n",
      "\n"
     ]
    }
   ],
   "source": [
    "#making the predictions\n",
    "predictions = model.predict(testX, batch_size=128)\n",
    "print(classification_report(testY.argmax(axis=1),predictions.argmax(axis=1),target_names=[str(x) for x in lb.classes_]))"
   ]
  },
  {
   "cell_type": "code",
   "execution_count": 23,
   "metadata": {
    "colab": {
     "base_uri": "https://localhost:8080/",
     "height": 316
    },
    "id": "DN7oqCII_Crw",
    "outputId": "6946110c-590d-4825-dabe-e030fefa519c"
   },
   "outputs": [
    {
     "data": {
      "text/plain": [
       "<matplotlib.legend.Legend at 0x2aa12600ad0>"
      ]
     },
     "execution_count": 23,
     "metadata": {},
     "output_type": "execute_result"
    },
    {
     "data": {
      "image/png": "[encoded data removed]",
      "text/plain": [
       "<Figure size 640x480 with 1 Axes>"
      ]
     },
     "metadata": {},
     "output_type": "display_data"
    }
   ],
   "source": [
    "#plotting the training loss and accuracy\n",
    "plt.style.use(\"ggplot\")\n",
    "plt.figure()\n",
    "plt.plot(np.arange(0, 100), H.history[\"loss\"], label=\"train_loss\")\n",
    "plt.plot(np.arange(0, 100), H.history[\"val_loss\"], label=\"val_loss\")\n",
    "plt.plot(np.arange(0, 100), H.history[\"accuracy\"], label=\"train_acc\")\n",
    "plt.plot(np.arange(0, 100), H.history[\"val_accuracy\"], label=\"val_acc\")\n",
    "plt.title(\"Training Loss and Accuracy\")\n",
    "plt.xlabel(\"Epoch #\")\n",
    "plt.ylabel(\"Loss/Accuracy\")\n",
    "plt.legend()"
   ]
  },
  {
   "cell_type": "code",
   "execution_count": null,
   "metadata": {},
   "outputs": [],
   "source": []
  }
 ],
 "metadata": {
  "colab": {
   "collapsed_sections": [],
   "provenance": []
  },
  "kernelspec": {
   "display_name": "Python 3 (ipykernel)",
   "language": "python",
   "name": "python3"
  },
  "language_info": {
   "codemirror_mode": {
    "name": "ipython",
    "version": 3
   },
   "file_extension": ".py",
   "mimetype": "text/x-python",
   "name": "python",
   "nbconvert_exporter": "python",
   "pygments_lexer": "ipython3",
   "version": "3.11.5"
  }
 },
 "nbformat": 4,
 "nbformat_minor": 1
}
